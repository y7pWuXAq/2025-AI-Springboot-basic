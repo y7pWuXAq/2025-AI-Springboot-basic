{
 "cells": [
  {
   "cell_type": "code",
   "execution_count": 13,
   "metadata": {},
   "outputs": [
    {
     "data": {
      "text/plain": [
       "'\\n<생선분류를 위한 분류모델 선정 후 파일로 저장하기>\\n - 저장 폴더      : ./model/\\n - 저장할 파일명   : 모델명_fish_model.pkl (joblib 방식)\\n                  : 모델명_fish_model.pickle (pickle 방식)\\n - 사용 라이브러리 : joblib 및 pickle 모두 사용\\n \\n - 모델은 랜덤포레스트 하나만 사용\\n'"
      ]
     },
     "execution_count": 13,
     "metadata": {},
     "output_type": "execute_result"
    }
   ],
   "source": [
    "\"\"\"\n",
    "<생선분류를 위한 분류모델 선정 후 파일로 저장하기>\n",
    " - 저장 폴더      : ./model/\n",
    " - 저장할 파일명   : 모델명_fish_model.pkl (joblib 방식)\n",
    "                  : 모델명_fish_model.pickle (pickle 방식)\n",
    " - 사용 라이브러리 : joblib 및 pickle 모두 사용\n",
    " \n",
    " - 모델은 랜덤포레스트 하나만 사용\n",
    "\"\"\""
   ]
  },
  {
   "cell_type": "code",
   "execution_count": 14,
   "metadata": {},
   "outputs": [],
   "source": [
    "import pandas as pd\n",
    "from sklearn.model_selection import train_test_split\n",
    "from sklearn.ensemble import RandomForestClassifier"
   ]
  },
  {
   "cell_type": "code",
   "execution_count": 15,
   "metadata": {},
   "outputs": [
    {
     "data": {
      "text/html": [
       "<div>\n",
       "<style scoped>\n",
       "    .dataframe tbody tr th:only-of-type {\n",
       "        vertical-align: middle;\n",
       "    }\n",
       "\n",
       "    .dataframe tbody tr th {\n",
       "        vertical-align: top;\n",
       "    }\n",
       "\n",
       "    .dataframe thead th {\n",
       "        text-align: right;\n",
       "    }\n",
       "</style>\n",
       "<table border=\"1\" class=\"dataframe\">\n",
       "  <thead>\n",
       "    <tr style=\"text-align: right;\">\n",
       "      <th></th>\n",
       "      <th>Species</th>\n",
       "      <th>Weight</th>\n",
       "      <th>Length</th>\n",
       "      <th>Diagonal</th>\n",
       "      <th>Height</th>\n",
       "      <th>Width</th>\n",
       "    </tr>\n",
       "  </thead>\n",
       "  <tbody>\n",
       "    <tr>\n",
       "      <th>0</th>\n",
       "      <td>Bream</td>\n",
       "      <td>242.0</td>\n",
       "      <td>25.4</td>\n",
       "      <td>30.0</td>\n",
       "      <td>11.52</td>\n",
       "      <td>4.02</td>\n",
       "    </tr>\n",
       "  </tbody>\n",
       "</table>\n",
       "</div>"
      ],
      "text/plain": [
       "  Species  Weight  Length  Diagonal  Height  Width\n",
       "0   Bream   242.0    25.4      30.0   11.52   4.02"
      ]
     },
     "execution_count": 15,
     "metadata": {},
     "output_type": "execute_result"
    }
   ],
   "source": [
    "file_path = \"./data/05_생선_분류_데이터셋.csv\"\n",
    "fish = pd.read_csv(file_path)\n",
    "fish.head(1)"
   ]
  },
  {
   "cell_type": "code",
   "execution_count": 16,
   "metadata": {},
   "outputs": [
    {
     "data": {
      "text/plain": [
       "((159, 5), (159,))"
      ]
     },
     "execution_count": 16,
     "metadata": {},
     "output_type": "execute_result"
    }
   ],
   "source": [
    "### 독립변수\n",
    "fish_input = fish.iloc[:, 1:]\n",
    "\n",
    "### 종속변수\n",
    "fish_target = fish.iloc[:, 0]\n",
    "\n",
    "fish_input.shape, fish_target.shape"
   ]
  },
  {
   "cell_type": "code",
   "execution_count": 17,
   "metadata": {},
   "outputs": [
    {
     "name": "stdout",
     "output_type": "stream",
     "text": [
      "(119, 5) (119,)\n",
      "(40, 5) (40,)\n"
     ]
    }
   ],
   "source": [
    "### 훈련 : 테스트 = 7.5 : 2.5로 분류\n",
    "train_input, test_input, train_target, test_target = train_test_split(\n",
    "    fish_input, fish_target, test_size=0.25, random_state=42\n",
    ")\n",
    "print(train_input.shape, train_target.shape)\n",
    "print(test_input.shape, test_target.shape)"
   ]
  },
  {
   "cell_type": "code",
   "execution_count": 18,
   "metadata": {},
   "outputs": [
    {
     "data": {
      "text/plain": [
       "(1.0, 0.775, 0.22499999999999998)"
      ]
     },
     "execution_count": 18,
     "metadata": {},
     "output_type": "execute_result"
    }
   ],
   "source": [
    "### 모델 생성 및 훈련\n",
    "rf = RandomForestClassifier(random_state=42)\n",
    "rf.fit(train_input, train_target)\n",
    "\n",
    "train_score = rf.score(train_input, train_target)\n",
    "test_score = rf.score(test_input, test_target)\n",
    "\n",
    "train_score, test_score, train_score-test_score"
   ]
  },
  {
   "cell_type": "code",
   "execution_count": 19,
   "metadata": {},
   "outputs": [],
   "source": [
    "### 모델 저장/불러오기 라이브러리\n",
    "import joblib\n",
    "import pickle\n",
    "\n",
    "# - 저장할 파일명   : 모델명_fish_model.pkl (joblib 방식)\n",
    "#                   : 모델명_fish_model.pickle (pickle 방식)"
   ]
  },
  {
   "cell_type": "code",
   "execution_count": 20,
   "metadata": {},
   "outputs": [],
   "source": [
    "### 모델 저장\n",
    "# - joblib 방식\n",
    "joblib.dump(rf, \"./model/rf_fish_model.pkl\")\n",
    "\n",
    "# - pickle 방식\n",
    "with open(\"./model/rf_fish_model.pickle\", \"wb\") as fw :\n",
    "    pickle.dump(rf, fw)"
   ]
  },
  {
   "cell_type": "code",
   "execution_count": 21,
   "metadata": {},
   "outputs": [],
   "source": [
    "### 모델 불러오기\n",
    "# - joblib 방식\n",
    "rf_joblib = joblib.load(\"./model/rf_fish_model.pkl\")\n",
    "\n",
    "# - pickle 방식\n",
    "with open(\"./model/rf_fish_model.pickle\", \"rb\") as f :\n",
    "    rf_pickle = pickle.load(f)"
   ]
  },
  {
   "cell_type": "code",
   "execution_count": 22,
   "metadata": {},
   "outputs": [
    {
     "data": {
      "text/plain": [
       "array(['Perch', 'Smelt', 'Perch', 'Perch', 'Perch', 'Bream', 'Smelt',\n",
       "       'Perch', 'Perch', 'Pike', 'Bream', 'Perch', 'Bream', 'Parkki',\n",
       "       'Bream', 'Bream', 'Perch', 'Perch', 'Roach', 'Bream', 'Smelt',\n",
       "       'Bream', 'Bream', 'Bream', 'Bream', 'Perch', 'Roach', 'Perch',\n",
       "       'Smelt', 'Smelt', 'Pike', 'Perch', 'Roach', 'Pike', 'Bream',\n",
       "       'Perch', 'Roach', 'Perch', 'Parkki', 'Perch'], dtype=object)"
      ]
     },
     "execution_count": 22,
     "metadata": {},
     "output_type": "execute_result"
    }
   ],
   "source": [
    "rf_joblib.predict(test_input)"
   ]
  },
  {
   "cell_type": "code",
   "execution_count": null,
   "metadata": {},
   "outputs": [
    {
     "data": {
      "text/plain": [
       "array(['Perch', 'Smelt', 'Perch', 'Perch', 'Perch', 'Bream', 'Smelt',\n",
       "       'Perch', 'Perch', 'Pike', 'Bream', 'Perch', 'Bream', 'Parkki',\n",
       "       'Bream', 'Bream', 'Perch', 'Perch', 'Roach', 'Bream', 'Smelt',\n",
       "       'Bream', 'Bream', 'Bream', 'Bream', 'Perch', 'Roach', 'Perch',\n",
       "       'Smelt', 'Smelt', 'Pike', 'Perch', 'Roach', 'Pike', 'Bream',\n",
       "       'Perch', 'Roach', 'Perch', 'Parkki', 'Perch'], dtype=object)"
      ]
     },
     "execution_count": 23,
     "metadata": {},
     "output_type": "execute_result"
    }
   ],
   "source": [
    "rf_pickle.predict(test_input)"
   ]
  },
  {
   "cell_type": "code",
   "execution_count": 24,
   "metadata": {},
   "outputs": [
    {
     "name": "stdout",
     "output_type": "stream",
     "text": [
      "종료.........\n"
     ]
    }
   ],
   "source": [
    "print(\"종료.........\")"
   ]
  }
 ],
 "metadata": {
  "kernelspec": {
   "display_name": "pk_flask_kernel",
   "language": "python",
   "name": "pk_flask"
  },
  "language_info": {
   "codemirror_mode": {
    "name": "ipython",
    "version": 3
   },
   "file_extension": ".py",
   "mimetype": "text/x-python",
   "name": "python",
   "nbconvert_exporter": "python",
   "pygments_lexer": "ipython3",
   "version": "3.9.21"
  }
 },
 "nbformat": 4,
 "nbformat_minor": 2
}
